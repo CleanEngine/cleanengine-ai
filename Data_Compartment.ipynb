{
 "cells": [
  {
   "cell_type": "code",
   "execution_count": null,
   "id": "aa5b4140",
   "metadata": {},
   "outputs": [],
   "source": [
    "import getpass\n",
    "import os\n",
    "\n",
    "if not os.environ.get(\"OPENAI_API_KEY\"):\n",
    "  os.environ[\"OPENAI_API_KEY\"] = getpass.getpass(\"Enter API key for OpenAI: \")\n"
   ]
  },
  {
   "cell_type": "code",
   "execution_count": 7,
   "id": "08630eab",
   "metadata": {},
   "outputs": [],
   "source": [
    "\n",
    "from langchain_openai import OpenAIEmbeddings\n",
    "\n",
    "embeddings = OpenAIEmbeddings(model=\"text-embedding-3-large\")"
   ]
  },
  {
   "cell_type": "code",
   "execution_count": 2,
   "id": "775b6971",
   "metadata": {},
   "outputs": [],
   "source": [
    "file_path = (\n",
    "    \"2006.14473v1.pdf\"\n",
    ")"
   ]
  },
  {
   "cell_type": "code",
   "execution_count": 3,
   "id": "07e0ac00",
   "metadata": {},
   "outputs": [],
   "source": [
    "from langchain_community.document_loaders import PyPDFLoader\n",
    "\n",
    "loader = PyPDFLoader(file_path)\n",
    "pages = []\n",
    "async for page in loader.alazy_load():\n",
    "    pages.append(page)"
   ]
  },
  {
   "cell_type": "code",
   "execution_count": 5,
   "id": "7070e33c",
   "metadata": {},
   "outputs": [
    {
     "name": "stdout",
     "output_type": "stream",
     "text": [
      "Database 'milvus_demo' does not exist.\n",
      "Database 'milvus_demo' created successfully.\n"
     ]
    }
   ],
   "source": [
    "from pymilvus import Collection, MilvusException, connections, db, utility\n",
    "\n",
    "conn = connections.connect(host=\"127.0.0.1\", port=19530)\n",
    "\n",
    "# Check if the database exists\n",
    "db_name = \"milvus_demo\"\n",
    "try:\n",
    "    existing_databases = db.list_database()\n",
    "    if db_name in existing_databases:\n",
    "        print(f\"Database '{db_name}' already exists.\")\n",
    "\n",
    "        # Use the database context\n",
    "        db.using_database(db_name)\n",
    "\n",
    "        # Drop all collections in the database\n",
    "        collections = utility.list_collections()\n",
    "        for collection_name in collections:\n",
    "            collection = Collection(name=collection_name)\n",
    "            collection.drop()\n",
    "            print(f\"Collection '{collection_name}' has been dropped.\")\n",
    "\n",
    "        db.drop_database(db_name)\n",
    "        print(f\"Database '{db_name}' has been deleted.\")\n",
    "    else:\n",
    "        print(f\"Database '{db_name}' does not exist.\")\n",
    "        database = db.create_database(db_name)\n",
    "        print(f\"Database '{db_name}' created successfully.\")\n",
    "except MilvusException as e:\n",
    "    print(f\"An error occurred: {e}\")"
   ]
  },
  {
   "cell_type": "code",
   "execution_count": 8,
   "id": "de87adbe",
   "metadata": {},
   "outputs": [],
   "source": [
    "from langchain_milvus import BM25BuiltInFunction, Milvus\n",
    "\n",
    "URI = \"http://localhost:19530\"\n",
    "\n",
    "vectorstore = Milvus(\n",
    "    embedding_function=embeddings,\n",
    "    connection_args={\"uri\": URI, \"token\": \"root:Milvus\", \"db_name\": \"milvus_demo\"},\n",
    "    index_params={\"index_type\": \"FLAT\", \"metric_type\": \"L2\"},\n",
    "    consistency_level=\"Strong\",\n",
    "    drop_old=False,  # set to True if seeking to drop the collection with that name if it exists\n",
    ")"
   ]
  },
  {
   "cell_type": "code",
   "execution_count": 9,
   "id": "4a73f97d",
   "metadata": {},
   "outputs": [],
   "source": [
    "from langchain_core.documents import Document\n",
    "\n",
    "vector_store_saved = Milvus.from_documents(\n",
    "    pages,\n",
    "    embeddings,\n",
    "    collection_name=\"langchain_example\",\n",
    "    connection_args={\"uri\": URI},\n",
    ")"
   ]
  },
  {
   "cell_type": "code",
   "execution_count": null,
   "id": "1045a9ee",
   "metadata": {},
   "outputs": [],
   "source": []
  }
 ],
 "metadata": {
  "kernelspec": {
   "display_name": "base",
   "language": "python",
   "name": "python3"
  },
  "language_info": {
   "codemirror_mode": {
    "name": "ipython",
    "version": 3
   },
   "file_extension": ".py",
   "mimetype": "text/x-python",
   "name": "python",
   "nbconvert_exporter": "python",
   "pygments_lexer": "ipython3",
   "version": "3.12.7"
  }
 },
 "nbformat": 4,
 "nbformat_minor": 5
}
